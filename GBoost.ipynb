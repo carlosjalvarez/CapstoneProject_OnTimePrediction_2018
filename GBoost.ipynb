{
 "cells": [
  {
   "cell_type": "code",
   "execution_count": 1,
   "metadata": {},
   "outputs": [],
   "source": [
    "#Import Environments:\n",
    "\n",
    "import pandas as pd\n",
    "import numpy as np"
   ]
  },
  {
   "cell_type": "code",
   "execution_count": 2,
   "metadata": {},
   "outputs": [],
   "source": [
    "#Load Data:\n",
    "\n",
    "train = pd.read_excel (r'C:\\Users\\nvhuy\\Desktop\\test_data.xlsx')\n",
    "test  = pd.read_excel (r'C:\\Users\\nvhuy\\Desktop\\test_data.xlsx')"
   ]
  },
  {
   "cell_type": "code",
   "execution_count": 3,
   "metadata": {},
   "outputs": [
    {
     "name": "stdout",
     "output_type": "stream",
     "text": [
      "<class 'pandas.core.frame.DataFrame'>\n",
      "RangeIndex: 4997 entries, 0 to 4996\n",
      "Data columns (total 20 columns):\n",
      "YEAR                  4997 non-null int64\n",
      "QUARTER               4997 non-null int64\n",
      "MONTH                 4997 non-null int64\n",
      "DAY_OF_MONTH          4997 non-null int64\n",
      "DAY_OF_WEEK           4997 non-null int64\n",
      "ORIGIN                4997 non-null object\n",
      "DEST                  4997 non-null object\n",
      "CRS_DEP_TIME          4997 non-null int64\n",
      "DEP_TIME              4997 non-null int64\n",
      "DEP_DELAY             4997 non-null int64\n",
      "DEP_DEL15             4997 non-null int64\n",
      "CRS_ARR_TIME          4997 non-null int64\n",
      "ARR_TIME              4997 non-null int64\n",
      "ARR_DELAY             4997 non-null int64\n",
      "ARR_DEL15             4997 non-null int64\n",
      "CRS_ELAPSED_TIME      4997 non-null int64\n",
      "DISTANCE              4997 non-null int64\n",
      "CRS_ELAPSED_TIME.1    150 non-null float64\n",
      "FLIGHTS               150 non-null float64\n",
      "DISTANCE.1            150 non-null float64\n",
      "dtypes: float64(3), int64(15), object(2)\n",
      "memory usage: 780.9+ KB\n",
      "<class 'pandas.core.frame.DataFrame'>\n",
      "RangeIndex: 4997 entries, 0 to 4996\n",
      "Data columns (total 20 columns):\n",
      "YEAR                  4997 non-null int64\n",
      "QUARTER               4997 non-null int64\n",
      "MONTH                 4997 non-null int64\n",
      "DAY_OF_MONTH          4997 non-null int64\n",
      "DAY_OF_WEEK           4997 non-null int64\n",
      "ORIGIN                4997 non-null object\n",
      "DEST                  4997 non-null object\n",
      "CRS_DEP_TIME          4997 non-null int64\n",
      "DEP_TIME              4997 non-null int64\n",
      "DEP_DELAY             4997 non-null int64\n",
      "DEP_DEL15             4997 non-null int64\n",
      "CRS_ARR_TIME          4997 non-null int64\n",
      "ARR_TIME              4997 non-null int64\n",
      "ARR_DELAY             4997 non-null int64\n",
      "ARR_DEL15             4997 non-null int64\n",
      "CRS_ELAPSED_TIME      4997 non-null int64\n",
      "DISTANCE              4997 non-null int64\n",
      "CRS_ELAPSED_TIME.1    150 non-null float64\n",
      "FLIGHTS               150 non-null float64\n",
      "DISTANCE.1            150 non-null float64\n",
      "dtypes: float64(3), int64(15), object(2)\n",
      "memory usage: 780.9+ KB\n"
     ]
    },
    {
     "data": {
      "text/plain": [
       "(None, None)"
      ]
     },
     "execution_count": 3,
     "metadata": {},
     "output_type": "execute_result"
    }
   ],
   "source": [
    "train.info(), test.info()"
   ]
  },
  {
   "cell_type": "code",
   "execution_count": 4,
   "metadata": {},
   "outputs": [
    {
     "data": {
      "text/plain": [
       "YEAR                     0\n",
       "QUARTER                  0\n",
       "MONTH                    0\n",
       "DAY_OF_MONTH             0\n",
       "DAY_OF_WEEK              0\n",
       "ORIGIN                   0\n",
       "DEST                     0\n",
       "CRS_DEP_TIME             0\n",
       "DEP_TIME                 0\n",
       "DEP_DELAY                0\n",
       "DEP_DEL15                0\n",
       "CRS_ARR_TIME             0\n",
       "ARR_TIME                 0\n",
       "ARR_DELAY                0\n",
       "ARR_DEL15                0\n",
       "CRS_ELAPSED_TIME         0\n",
       "DISTANCE                 0\n",
       "CRS_ELAPSED_TIME.1    4847\n",
       "FLIGHTS               4847\n",
       "DISTANCE.1            4847\n",
       "dtype: int64"
      ]
     },
     "execution_count": 4,
     "metadata": {},
     "output_type": "execute_result"
    }
   ],
   "source": [
    "train.isnull().sum()"
   ]
  },
  {
   "cell_type": "code",
   "execution_count": 5,
   "metadata": {},
   "outputs": [],
   "source": [
    "train.set_index(\"CRS_DEP_TIME\", inplace=True)\n",
    "test.set_index(\"CRS_DEP_TIME\", inplace=True)"
   ]
  },
  {
   "cell_type": "code",
   "execution_count": 6,
   "metadata": {},
   "outputs": [],
   "source": [
    "train_y = train[\"ARR_DEL15\"]"
   ]
  },
  {
   "cell_type": "code",
   "execution_count": 7,
   "metadata": {},
   "outputs": [],
   "source": [
    "#Delete the column ARR_DEL15 from train set:\n",
    "\n",
    "train.drop(labels=\"ARR_DEL15\", axis=1, inplace=True)"
   ]
  },
  {
   "cell_type": "code",
   "execution_count": 8,
   "metadata": {},
   "outputs": [
    {
     "data": {
      "text/plain": [
       "((4997, 18), (4997, 19))"
      ]
     },
     "execution_count": 8,
     "metadata": {},
     "output_type": "execute_result"
    }
   ],
   "source": [
    "train.shape, test.shape"
   ]
  },
  {
   "cell_type": "code",
   "execution_count": 9,
   "metadata": {},
   "outputs": [
    {
     "name": "stderr",
     "output_type": "stream",
     "text": [
      "C:\\Users\\nvhuy\\Anaconda3\\lib\\site-packages\\pandas\\core\\frame.py:6211: FutureWarning: Sorting because non-concatenation axis is not aligned. A future version\n",
      "of pandas will change to not sort by default.\n",
      "\n",
      "To accept the future behavior, pass 'sort=False'.\n",
      "\n",
      "To retain the current behavior and silence the warning, pass 'sort=True'.\n",
      "\n",
      "  sort=sort)\n"
     ]
    }
   ],
   "source": [
    "train_test = train.append(test)"
   ]
  },
  {
   "cell_type": "code",
   "execution_count": 10,
   "metadata": {},
   "outputs": [],
   "source": [
    "#Delete columns that are not used as features for training and prediction:\n",
    "\n",
    "columns_to_drop = [\"ORIGIN\", \"DEST\"]\n",
    "train_test.drop(labels=columns_to_drop, axis=1, inplace=True)"
   ]
  },
  {
   "cell_type": "code",
   "execution_count": 11,
   "metadata": {},
   "outputs": [],
   "source": [
    "#Replace NaN with zeroes:\n",
    "\n",
    "train_test.fillna(value=0, inplace=True)"
   ]
  },
  {
   "cell_type": "code",
   "execution_count": 12,
   "metadata": {},
   "outputs": [
    {
     "data": {
      "text/plain": [
       "False"
      ]
     },
     "execution_count": 12,
     "metadata": {},
     "output_type": "execute_result"
    }
   ],
   "source": [
    "train_test.isnull().values.any()"
   ]
  },
  {
   "cell_type": "code",
   "execution_count": 13,
   "metadata": {},
   "outputs": [],
   "source": [
    "#Generate feature sets (x):\n",
    "\n",
    "train_x = train_test.values[0:4997]\n",
    "test_x = train_test.values[4997:]"
   ]
  },
  {
   "cell_type": "code",
   "execution_count": 14,
   "metadata": {},
   "outputs": [
    {
     "data": {
      "text/plain": [
       "((4997, 17), (4997, 17))"
      ]
     },
     "execution_count": 14,
     "metadata": {},
     "output_type": "execute_result"
    }
   ],
   "source": [
    "train_x.shape, test_x.shape"
   ]
  },
  {
   "cell_type": "code",
   "execution_count": 15,
   "metadata": {},
   "outputs": [],
   "source": [
    "#Transform the data:\n",
    "\n",
    "from sklearn.preprocessing import MinMaxScaler\n",
    "\n",
    "scaler = MinMaxScaler()\n",
    "train_x_scale = scaler.fit_transform(train_x)\n",
    "test_x_scale = scaler.transform(test_x)"
   ]
  },
  {
   "cell_type": "code",
   "execution_count": 16,
   "metadata": {},
   "outputs": [],
   "source": [
    "#Split training feature and target sets into training and validation subsets:\n",
    "from sklearn.model_selection import train_test_split\n",
    "\n",
    "train_x_sub, validation_x_sub, train_y_sub, validation_y_sub = train_test_split(train_x_scale, train_y, random_state=0)"
   ]
  },
  {
   "cell_type": "code",
   "execution_count": 17,
   "metadata": {},
   "outputs": [
    {
     "name": "stdout",
     "output_type": "stream",
     "text": [
      "Learning rate:  0.05\n",
      "Accuracy score (training): 0.941\n",
      "Accuracy score (validation): 0.929\n",
      "\n",
      "Learning rate:  0.1\n",
      "Accuracy score (training): 0.978\n",
      "Accuracy score (validation): 0.977\n",
      "\n",
      "Learning rate:  0.25\n",
      "Accuracy score (training): 0.996\n",
      "Accuracy score (validation): 0.996\n",
      "\n",
      "Learning rate:  0.5\n",
      "Accuracy score (training): 0.999\n",
      "Accuracy score (validation): 0.997\n",
      "\n",
      "Learning rate:  0.75\n",
      "Accuracy score (training): 0.998\n",
      "Accuracy score (validation): 0.993\n",
      "\n",
      "Learning rate:  1\n",
      "Accuracy score (training): 0.991\n",
      "Accuracy score (validation): 0.990\n",
      "\n"
     ]
    }
   ],
   "source": [
    "#Train with Gradient Boosting Algorithm:\n",
    "\n",
    "from sklearn.ensemble import GradientBoostingClassifier\n",
    "\n",
    "learning_rates = [0.05, 0.1, 0.25, 0.5, 0.75, 1]\n",
    "for learning_rate in learning_rates:\n",
    "    gboost = GradientBoostingClassifier(n_estimators=20, learning_rate = learning_rate, max_features=2, max_depth = 2, random_state = 0)\n",
    "    gboost.fit(train_x_sub, train_y_sub)\n",
    "    print(\"Learning rate: \", learning_rate)\n",
    "    print(\"Accuracy score (training): {0:.3f}\".format(gboost.score(train_x_sub, train_y_sub)))\n",
    "    print(\"Accuracy score (validation): {0:.3f}\".format(gboost.score(validation_x_sub, validation_y_sub)))\n",
    "    print()"
   ]
  },
  {
   "cell_type": "code",
   "execution_count": 27,
   "metadata": {},
   "outputs": [
    {
     "name": "stdout",
     "output_type": "stream",
     "text": [
      "Confusion Matrix:\n",
      "[[1140    4]\n",
      " [   0  106]]\n",
      "\n",
      "Classification Report:\n",
      "              precision    recall  f1-score   support\n",
      "\n",
      "           0       1.00      1.00      1.00      1144\n",
      "           1       0.96      1.00      0.98       106\n",
      "\n",
      "   micro avg       1.00      1.00      1.00      1250\n",
      "   macro avg       0.98      1.00      0.99      1250\n",
      "weighted avg       1.00      1.00      1.00      1250\n",
      "\n"
     ]
    }
   ],
   "source": [
    "#Output confusion matrix and classification report of Gradient Boosting algorithm on validation set:\n",
    "\n",
    "from sklearn.metrics import classification_report, confusion_matrix, roc_curve, auc\n",
    "\n",
    "gboost = GradientBoostingClassifier(n_estimators=20, learning_rate = 0.5, max_features=2, max_depth = 2, random_state = 0)\n",
    "gboost.fit(train_x_sub, train_y_sub)\n",
    "predictions = gboost.predict(validation_x_sub)\n",
    "\n",
    "print(\"Confusion Matrix:\")\n",
    "print(confusion_matrix(validation_y_sub, predictions))\n",
    "print()\n",
    "print(\"Classification Report:\")\n",
    "print(classification_report(validation_y_sub, predictions))"
   ]
  },
  {
   "cell_type": "code",
   "execution_count": 28,
   "metadata": {},
   "outputs": [],
   "source": [
    "import itertools\n",
    "import matplotlib.pyplot as plt"
   ]
  },
  {
   "cell_type": "code",
   "execution_count": 32,
   "metadata": {},
   "outputs": [
    {
     "name": "stdout",
     "output_type": "stream",
     "text": [
      "Confusion matrix, without normalization\n",
      "[[1140    4]\n",
      " [   0  106]]\n",
      "Normalized confusion matrix\n",
      "[[1. 0.]\n",
      " [0. 1.]]\n"
     ]
    },
    {
     "data": {
      "text/plain": [
       "<Figure size 432x288 with 0 Axes>"
      ]
     },
     "metadata": {},
     "output_type": "display_data"
    },
    {
     "data": {
      "image/png": "[encoded data removed]",
      "text/plain": [
       "<Figure size 432x288 with 2 Axes>"
      ]
     },
     "metadata": {
      "needs_background": "light"
     },
     "output_type": "display_data"
    },
    {
     "data": {
      "text/plain": [
       "<Figure size 432x288 with 0 Axes>"
      ]
     },
     "metadata": {},
     "output_type": "display_data"
    },
    {
     "data": {
      "image/png": "[encoded data removed]",
      "text/plain": [
       "<Figure size 432x288 with 2 Axes>"
      ]
     },
     "metadata": {
      "needs_background": "light"
     },
     "output_type": "display_data"
    }
   ],
   "source": [
    "def plot_confusion_matrix(cm,\n",
    "                          normalize = False,\n",
    "                          title = 'Confusion Matrix',\n",
    "                          cmap = plt.cm.Blues):\n",
    "    if normalize:\n",
    "        cm = cm.astype('float') / cm.sum(axis=1)[:, np.newaxis]\n",
    "        print(\"Normalized confusion matrix\")\n",
    "    else:\n",
    "        print('Confusion matrix, without normalization')\n",
    "\n",
    "    print(cm)\n",
    "    \n",
    "    \n",
    "    plt.imshow(cm, interpolation='nearest', cmap=cmap)\n",
    "    plt.title(title)\n",
    "    plt.colorbar()\n",
    "    plt.ylabel('ACTUAL')\n",
    "    plt.xlabel('PREDICTED')\n",
    "    plt.tight_layout()\n",
    "    plt.grid('off')\n",
    "    x_labels = ['on-time','','delay']\n",
    "    y_labels = ['','on-time','','','','delay']\n",
    "    ax = fig.add_subplot(111)\n",
    "    ax.set_xticklabels([' '] + x_labels)\n",
    "    ax.set_yticklabels([' '] + y_labels)\n",
    "\n",
    "    fmt = '.2f' if normalize else 'd'\n",
    "    thresh = cm.max() / 2.\n",
    "    for i, j in itertools.product(range(cm.shape[0]), range(cm.shape[1])):\n",
    "        plt.text(j, i, format(cm[i, j], fmt),\n",
    "                 horizontalalignment=\"center\",\n",
    "                 color=\"white\" if cm[i, j] > thresh else \"black\")\n",
    "\n",
    "    \n",
    "\n",
    "# Compute confusion matrix\n",
    "cnf_matrix = confusion_matrix(validation_y_sub, predictions)\n",
    "np.set_printoptions(precision=2)\n",
    "\n",
    "# Plot non-normalized confusion matrix\n",
    "plt.figure()\n",
    "fig = plt.figure()\n",
    "plot_confusion_matrix(cnf_matrix, title='Confusion matrix, without normalization')\n",
    "\n",
    "# Plot normalized confusion matrix\n",
    "plt.figure()\n",
    "fig = plt.figure()\n",
    "plot_confusion_matrix(cnf_matrix, normalize=True,\n",
    "                      title='Normalized confusion matrix')\n",
    "\n",
    "\n",
    "plt.show()"
   ]
  },
  {
   "cell_type": "code",
   "execution_count": 25,
   "metadata": {},
   "outputs": [
    {
     "name": "stdout",
     "output_type": "stream",
     "text": [
      "Area under ROC curve = 1.00\n"
     ]
    }
   ],
   "source": [
    "# ROC curve and Area-Under-Curve (AUC)\n",
    "\n",
    "y_scores_gboost = gboost.decision_function(validation_x_sub)\n",
    "fpr_gboost, tpr_gboost, _ = roc_curve(validation_y_sub, y_scores_gboost)\n",
    "roc_auc_gboost = auc(fpr_gboost, tpr_gboost)\n",
    "\n",
    "print(\"Area under ROC curve = {:0.2f}\".format(roc_auc_gboost))"
   ]
  },
  {
   "cell_type": "code",
   "execution_count": null,
   "metadata": {},
   "outputs": [],
   "source": []
  }
 ],
 "metadata": {
  "kernelspec": {
   "display_name": "Python 3",
   "language": "python",
   "name": "python3"
  },
  "language_info": {
   "codemirror_mode": {
    "name": "ipython",
    "version": 3
   },
   "file_extension": ".py",
   "mimetype": "text/x-python",
   "name": "python",
   "nbconvert_exporter": "python",
   "pygments_lexer": "ipython3",
   "version": "3.7.1"
  }
 },
 "nbformat": 4,
 "nbformat_minor": 2
}
